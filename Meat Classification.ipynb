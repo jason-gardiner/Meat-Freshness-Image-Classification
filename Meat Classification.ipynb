{
 "cells": [
  {
   "cell_type": "code",
   "execution_count": 1,
   "id": "2d9dcd41",
   "metadata": {},
   "outputs": [],
   "source": [
    "import cv2 as cv\n",
    "import os\n",
    "import numpy as np\n",
    "import matplotlib.pyplot as plt\n",
    "from sklearn.tree import DecisionTreeClassifier, plot_tree\n",
    "from sklearn.metrics import classification_report, accuracy_score, precision_score, recall_score, f1_score\n",
    "from sklearn.ensemble import RandomForestClassifier"
   ]
  },
  {
   "cell_type": "code",
   "execution_count": 2,
   "id": "caab55d1",
   "metadata": {},
   "outputs": [],
   "source": [
    "class_label_encoding = {\n",
    "    'SPOILED': 0,\n",
    "    'HALF': 1,\n",
    "    'FRESH': 2\n",
    "}"
   ]
  },
  {
   "cell_type": "markdown",
   "id": "7c33ec2a",
   "metadata": {},
   "source": [
    "# Loading Images"
   ]
  },
  {
   "cell_type": "code",
   "execution_count": 3,
   "id": "aed8098c",
   "metadata": {},
   "outputs": [],
   "source": [
    "def load_images(file_path, output_x, output_y):\n",
    "    for file_name in os.listdir(file_path):\n",
    "        class_name = file_name.split('-')[0]\n",
    "        if (class_name == '_classes.csv'): continue\n",
    "        img = cv.imread(file_path + file_name).astype('float32')\n",
    "        img = cv.cvtColor(img, cv.COLOR_BGR2RGB)\n",
    "        img = cv.resize(img, (128, 128), interpolation = cv.INTER_AREA)\n",
    "        img /= 255\n",
    "        output_x.append(img)\n",
    "        output_y.append(class_label_encoding[class_name])"
   ]
  },
  {
   "cell_type": "code",
   "execution_count": null,
   "id": "966ac2cb",
   "metadata": {},
   "outputs": [],
   "source": [
    "train_x = []\n",
    "train_y = []\n",
    "test_x = []\n",
    "test_y = []\n",
    "\n",
    "load_images('data/train/', train_x, train_y)\n",
    "load_images('data/valid/', test_x, test_y)"
   ]
  },
  {
   "cell_type": "code",
   "execution_count": null,
   "id": "2106746d",
   "metadata": {},
   "outputs": [],
   "source": [
    "train_x[0]"
   ]
  },
  {
   "cell_type": "markdown",
   "id": "7633df5c",
   "metadata": {},
   "source": [
    "# Feature Extraction"
   ]
  },
  {
   "cell_type": "markdown",
   "id": "54d60903",
   "metadata": {},
   "source": [
    "## Color Histogram\n",
    "Jason"
   ]
  },
  {
   "cell_type": "code",
   "execution_count": null,
   "id": "26f6d114",
   "metadata": {},
   "outputs": [],
   "source": [
    "def extract_color_histogram(image, bins=32):\n",
    "    \"\"\"\n",
    "    Extract color histogram features from an image.\n",
    "    \n",
    "    Parameters:\n",
    "    - image: The input image (should be in RGB format)\n",
    "    - bins: Number of bins for the histogram\n",
    "    \n",
    "    Returns:\n",
    "    - histogram_features: Flattened histogram features\n",
    "    \"\"\"\n",
    "    # Extract histograms for each channel\n",
    "    hist_r = cv.calcHist([image], [0], None, [bins], [0, 1])  # Changed range to [0, 1] since you're normalizing images\n",
    "    hist_g = cv.calcHist([image], [1], None, [bins], [0, 1])\n",
    "    hist_b = cv.calcHist([image], [2], None, [bins], [0, 1])\n",
    "    \n",
    "    # Normalize the histograms\n",
    "    cv.normalize(hist_r, hist_r, 0, 1, cv.NORM_MINMAX)\n",
    "    cv.normalize(hist_g, hist_g, 0, 1, cv.NORM_MINMAX)\n",
    "    cv.normalize(hist_b, hist_b, 0, 1, cv.NORM_MINMAX)\n",
    "    \n",
    "    # Flatten and concatenate the histograms\n",
    "    histogram_features = np.concatenate([\n",
    "        hist_r.flatten(), \n",
    "        hist_g.flatten(), \n",
    "        hist_b.flatten()\n",
    "    ])\n",
    "    \n",
    "    return histogram_features"
   ]
  },
  {
   "cell_type": "code",
   "execution_count": null,
   "id": "69713c88",
   "metadata": {},
   "outputs": [],
   "source": [
    "def plot_color_histogram(image, bins=32, title=\"Color Histogram\"):\n",
    "    \"\"\"\n",
    "    Plot the color histogram of an image.\n",
    "    \n",
    "    Parameters:\n",
    "    - image: The input image (should be in RGB format)\n",
    "    - bins: Number of bins for the histogram\n",
    "    - title: Title for the plot\n",
    "    \n",
    "    Returns:\n",
    "    - None (displays the plot)\n",
    "    \"\"\"\n",
    "    # Create a figure with subplots\n",
    "    fig, ax = plt.subplots(1, 4, figsize=(16, 4))\n",
    "    \n",
    "    # Display the original image\n",
    "    ax[0].imshow(image)\n",
    "    ax[0].set_title('Original Image')\n",
    "    ax[0].axis('off')\n",
    "    \n",
    "    # Get histogram features using your existing function\n",
    "    features = extract_color_histogram(image, bins)\n",
    "    \n",
    "    # Split the features back into channels\n",
    "    channel_length = len(features) // 3\n",
    "    hist_r = features[:channel_length].reshape(bins, 1)\n",
    "    hist_g = features[channel_length:2*channel_length].reshape(bins, 1)\n",
    "    hist_b = features[2*channel_length:].reshape(bins, 1)\n",
    "    \n",
    "    # Define colors and channels\n",
    "    colors = ['r', 'g', 'b']\n",
    "    channels = ['Red', 'Green', 'Blue']\n",
    "    hists = [hist_r, hist_g, hist_b]\n",
    "    \n",
    "    # Plot histograms for each channel\n",
    "    for i, (hist, col, chan) in enumerate(zip(hists, colors, channels)):\n",
    "        ax[i+1].plot(hist, color=col)\n",
    "        ax[i+1].set_xlim([0, bins])\n",
    "        ax[i+1].set_title(f'{chan} Histogram')\n",
    "        ax[i+1].set_xlabel('Bins')\n",
    "        ax[i+1].set_ylabel('# of Pixels')\n",
    "        ax[i+1].grid(True, alpha=0.3)\n",
    "    \n",
    "    plt.suptitle(title, fontsize=16)\n",
    "    plt.tight_layout()\n",
    "    plt.show()\n",
    "    \n",
    "    return features"
   ]
  },
  {
   "cell_type": "code",
   "execution_count": null,
   "id": "c913fd18",
   "metadata": {},
   "outputs": [],
   "source": [
    "image = train_x[0]  # Get the first image\n",
    "plot_color_histogram(image, bins=32, title=\"Meat Sample Color Histogram\")\n",
    "print()"
   ]
  },
  {
   "cell_type": "code",
   "execution_count": null,
   "id": "16684164",
   "metadata": {},
   "outputs": [],
   "source": [
    "# Extract features from training and testing sets\n",
    "train_features = []\n",
    "for img in train_x:\n",
    "    hist_features = extract_color_histogram(img)\n",
    "    train_features.append(hist_features)\n",
    "train_features = np.array(train_features)\n",
    "\n",
    "\n",
    "test_features = []\n",
    "for img in test_x:\n",
    "    hist_features = extract_color_histogram(img)\n",
    "    test_features.append(hist_features)\n",
    "test_features = np.array(test_features)\n",
    "\n",
    "print(train_features)"
   ]
  },
  {
   "cell_type": "markdown",
   "id": "d2c288bd",
   "metadata": {},
   "source": [
    "## Local Binary Pattern\n",
    "Aiden"
   ]
  },
  {
   "cell_type": "code",
   "execution_count": null,
   "id": "e0966dce",
   "metadata": {},
   "outputs": [],
   "source": [
    "def get_pixel(img, center, x, y): \n",
    "      \n",
    "    new_value = 0\n",
    "      \n",
    "    try: \n",
    "        # if local neighbourhood pixel value is greater than or equal to center pixel values then set it to 1 \n",
    "        if img[x][y] >= center: \n",
    "            new_value = 1\n",
    "              \n",
    "    except: \n",
    "        # exception required when neighbourhood value of center pixel value is null\n",
    "        pass\n",
    "      \n",
    "    return new_value \n",
    "   \n",
    "# Function for calculating LBP \n",
    "def lbp_calculated_pixel(img, x, y): \n",
    "   \n",
    "    center = img[x][y] \n",
    "   \n",
    "    val_ar = [] \n",
    "      \n",
    "    # top_left \n",
    "    val_ar.append(get_pixel(img, center, x-1, y-1)) \n",
    "      \n",
    "    # top \n",
    "    val_ar.append(get_pixel(img, center, x-1, y)) \n",
    "      \n",
    "    # top_right \n",
    "    val_ar.append(get_pixel(img, center, x-1, y + 1)) \n",
    "      \n",
    "    # right \n",
    "    val_ar.append(get_pixel(img, center, x, y + 1)) \n",
    "      \n",
    "    # bottom_right \n",
    "    val_ar.append(get_pixel(img, center, x + 1, y + 1)) \n",
    "      \n",
    "    # bottom \n",
    "    val_ar.append(get_pixel(img, center, x + 1, y)) \n",
    "      \n",
    "    # bottom_left \n",
    "    val_ar.append(get_pixel(img, center, x + 1, y-1)) \n",
    "      \n",
    "    # left \n",
    "    val_ar.append(get_pixel(img, center, x, y-1)) \n",
    "       \n",
    "    # convert binary values to decimal \n",
    "    power_val = [1, 2, 4, 8, 16, 32, 64, 128] \n",
    "   \n",
    "    val = 0\n",
    "      \n",
    "    for i in range(len(val_ar)): \n",
    "        val += val_ar[i] * power_val[i] \n",
    "          \n",
    "    return val\n",
    "\n",
    "\n",
    "def lbp_output(img_bgr):\n",
    "    height, width, _ = img_bgr.shape \n",
    "   \n",
    "    # convert RGB to gray \n",
    "    img_gray = cv.cvtColor(img_bgr, \n",
    "                            cv.COLOR_BGR2GRAY) \n",
    "       \n",
    "    # create numpy array as same height and width of RGB image \n",
    "    img_lbp = np.zeros((height, width), \n",
    "                       np.float32) \n",
    "       \n",
    "    for i in range(0, height): \n",
    "        for j in range(0, width): \n",
    "            img_lbp[i, j] = lbp_calculated_pixel(img_gray, i, j)\n",
    "\n",
    "    return img_lbp"
   ]
  },
  {
   "cell_type": "code",
   "execution_count": null,
   "id": "d9387764",
   "metadata": {},
   "outputs": [],
   "source": [
    "img_bgr = train_x[0]\n",
    "img_lbp = lbp_output(img_bgr)\n",
    "  \n",
    "plt.imshow(img_bgr) \n",
    "plt.show()\n",
    "   \n",
    "plt.imshow(img_lbp, cmap =\"gray\")\n",
    "plt.show()"
   ]
  },
  {
   "cell_type": "code",
   "execution_count": null,
   "id": "ab348b80",
   "metadata": {},
   "outputs": [],
   "source": [
    "def save_images_lbp(imgs, labels, train_test='train'):\n",
    "    label_text = ['SPOILED', 'HALF', 'FRESH']\n",
    "    for image in range(len(imgs)):\n",
    "        lbp_image = lbp_output(imgs[image])\n",
    "        filename = f'data/lbp/{train_test}/{label_text[labels[image]]}-{image}-lbp.jpg'\n",
    "        cv.imwrite(filename, lbp_image)"
   ]
  },
  {
   "cell_type": "code",
   "execution_count": null,
   "id": "f5f9da50",
   "metadata": {},
   "outputs": [],
   "source": [
    "# save_images_lbp(train_x, train_y, train_test='train')"
   ]
  },
  {
   "cell_type": "code",
   "execution_count": null,
   "id": "1ff94ab1",
   "metadata": {},
   "outputs": [],
   "source": [
    "# save_images_lbp(test_x, test_y, train_test='test')"
   ]
  },
  {
   "cell_type": "markdown",
   "id": "12472a7b",
   "metadata": {},
   "source": [
    "# Classification"
   ]
  },
  {
   "cell_type": "markdown",
   "id": "5d3fac7a",
   "metadata": {},
   "source": [
    "## Decision Tree\n",
    "Jason"
   ]
  },
  {
   "cell_type": "code",
   "execution_count": null,
   "id": "2d4491c1",
   "metadata": {},
   "outputs": [],
   "source": [
    "def train_decision_tree(x_train_tree, y_train_tree, x_test_tree, y_test_tree, max_depth=5, show_tree=True, feature_names=None):\n",
    "    \"\"\"\n",
    "    Train a decision tree classifier on any type of features, with optional histogram visualization.\n",
    "    \n",
    "    Parameters:\n",
    "    - x_train_tree: Training features\n",
    "    - y_train_tree: Training labels\n",
    "    - x_test_tree: Test features\n",
    "    - y_test_tree: Test labels\n",
    "    - max_depth: Maximum depth of the decision tree\n",
    "    - show_tree: Whether to visualize the decision tree\n",
    "    - feature_names: Names of features (will be auto-generated if None)\n",
    "    \n",
    "    Returns:\n",
    "    - dt_classifier: Trained decision tree classifier\n",
    "    - accuracy: Classification accuracy on test set\n",
    "    - report: Classification report\n",
    "    \"\"\"\n",
    "\n",
    "    # Create a list of class names\n",
    "    class_names=['SPOILED', 'HALF', 'FRESH']\n",
    "    \n",
    "    # Create and train a Decision Tree classifier\n",
    "    dt_classifier = DecisionTreeClassifier(max_depth=max_depth, random_state=42)\n",
    "    dt_classifier.fit(x_train_tree, y_train_tree)\n",
    "    \n",
    "    # Make predictions\n",
    "    predictions = dt_classifier.predict(x_test_tree)\n",
    "    \n",
    "    # Evaluate the model\n",
    "    accuracy = accuracy_score(y_test_tree, predictions)\n",
    "    report = classification_report(y_test_tree, predictions, target_names=class_names)\n",
    "    \n",
    "    # Print results\n",
    "    print(f\"Decision Tree Accuracy: {accuracy:.4f}\")\n",
    "    print(\"\\nClassification Report:\")\n",
    "    print(report)\n",
    "    \n",
    "    # Show decision tree if requested\n",
    "    if show_tree:\n",
    "        # Create feature names if not provided\n",
    "        if feature_names is None:\n",
    "            feature_names = [f\"Feature_{i}\" for i in range(x_train_tree.shape[1])]\n",
    "            \n",
    "        plt.figure(figsize=(15, 10))\n",
    "        plot_tree(dt_classifier, \n",
    "                  feature_names=feature_names,\n",
    "                  class_names=class_names,\n",
    "                  filled=True, \n",
    "                  rounded=True, \n",
    "                  fontsize=8)\n",
    "        plt.title(\"Decision Tree for Classification\")\n",
    "        plt.tight_layout()\n",
    "        plt.show()\n",
    "    \n",
    "    return dt_classifier, accuracy, report"
   ]
  },
  {
   "cell_type": "code",
   "execution_count": null,
   "id": "e2e749fd",
   "metadata": {},
   "outputs": [],
   "source": [
    "# Create feature names for the histogram features\n",
    "bins_per_channel = train_features.shape[1] // 3\n",
    "channels = ['Red', 'Green', 'Blue']\n",
    "feature_names = []\n",
    "for channel in channels:\n",
    "    for index in range(bins_per_channel):\n",
    "        feature_names.append(f\"{channel} Bin {index}\")\n",
    "\n",
    "#x_train_tree, y_train_tree, x_test_tree, y_test_tree, max_depth=5, show_tree=True, feature_names=None\n",
    "\n",
    "# Train the decision tree with histogram visualization\n",
    "model, acc, report = train_decision_tree(x_train_tree=train_features, y_train_tree=train_y, x_test_tree=test_features,\n",
    "                                         y_test_tree=test_y, max_depth=3, feature_names=feature_names)"
   ]
  },
  {
   "cell_type": "markdown",
   "id": "3c27a7c6",
   "metadata": {},
   "source": [
    "## Random Forest\n",
    "Aiden"
   ]
  },
  {
   "cell_type": "code",
   "execution_count": null,
   "id": "e9584d80",
   "metadata": {},
   "outputs": [],
   "source": [
    "def train_random_forest(x_train_forest, y_train_forest, x_test_forest, y_test_forest, n_estimators=100, criterion='gini', max_depth=None,\n",
    "                        min_samples_split=2, min_samples_leaf=1, max_features='sqrt'):\n",
    "    # Create Random Forest classifer object\n",
    "    clf = RandomForestClassifier(n_estimators=n_estimators, criterion=criterion, max_depth=max_depth, min_samples_split=min_samples_split,\n",
    "                                min_samples_leaf=min_samples_leaf, max_features=max_features, random_state=42)\n",
    "    \n",
    "    # Train Random Forest Classifer\n",
    "    clf.fit(x_train_forest,y_train_forest)\n",
    "    \n",
    "    #Predict the response for test dataset\n",
    "    y_pred = clf.predict(x_test_forest)\n",
    "    \n",
    "    accuracy = accuracy_score(y_test_forest, y_pred)\n",
    "    precision = precision_score(y_test_forest, y_pred)\n",
    "    recall = recall_score(y_test_forest, y_pred)\n",
    "    f1 = f1_score(y_test_forest, y_pred)\n",
    "    confusion = confusion_matrix(y_test_forest, y_pred)\n",
    "\n",
    "    return accuracy, precision, recall, f1"
   ]
  }
 ],
 "metadata": {
  "kernelspec": {
   "display_name": "Python 3 (ipykernel)",
   "language": "python",
   "name": "python3"
  },
  "language_info": {
   "codemirror_mode": {
    "name": "ipython",
    "version": 3
   },
   "file_extension": ".py",
   "mimetype": "text/x-python",
   "name": "python",
   "nbconvert_exporter": "python",
   "pygments_lexer": "ipython3",
   "version": "3.12.3"
  }
 },
 "nbformat": 4,
 "nbformat_minor": 5
}
