{
 "cells": [
  {
   "cell_type": "code",
   "execution_count": 4,
   "id": "7724c2c5-82b2-4201-9ddd-8b7b27e4079a",
   "metadata": {},
   "outputs": [],
   "source": [
    "import cv2 as cv\n",
    "import os"
   ]
  },
  {
   "cell_type": "code",
   "execution_count": 5,
   "id": "d7ec3d31-e67d-495d-b971-26a783d2fbad",
   "metadata": {},
   "outputs": [],
   "source": [
    "class_label_encoding = {\n",
    "    'SPOILED': 0,\n",
    "    'HALF': 1,\n",
    "    'FRESH': 2\n",
    "}"
   ]
  },
  {
   "cell_type": "code",
   "execution_count": 30,
   "id": "5d6162f9-5ae2-4361-9fed-478ad8f9efe5",
   "metadata": {},
   "outputs": [],
   "source": [
    "def load_images(file_path, output_x, output_y):\n",
    "    for file_name in os.listdir(file_path):\n",
    "        class_name = file_name.split('-')[0]\n",
    "        if (class_name == '_classes.csv'): continue\n",
    "        img = cv.imread(file_path + file_name).astype('float32')\n",
    "        img = cv.cvtColor(img, cv.COLOR_BGR2RGB)\n",
    "        img = cv.resize(img, (128, 128), interpolation = cv.INTER_AREA)\n",
    "        img /= 255\n",
    "        output_x.append(img)\n",
    "        output_y.append(class_label_encoding[class_name])"
   ]
  },
  {
   "cell_type": "code",
   "execution_count": 36,
   "id": "5f492d5f-734f-4c41-b427-ef55e61f2fb8",
   "metadata": {},
   "outputs": [],
   "source": [
    "train_x = []\n",
    "train_y = []\n",
    "test_x = []\n",
    "test_y = []\n",
    "\n",
    "load_images('data/train/', train_x, train_y)\n",
    "load_images('data/train/', test_x, test_y)"
   ]
  },
  {
   "cell_type": "code",
   "execution_count": 33,
   "id": "6d2074b5-2e94-45bf-8826-8cdd390e94d4",
   "metadata": {},
   "outputs": [
    {
     "data": {
      "text/plain": [
       "array([[[0.941107  , 0.7227521 , 0.63253284],\n",
       "        [0.905836  , 0.66376615, 0.5901613 ],\n",
       "        [0.8671308 , 0.6055923 , 0.5416406 ],\n",
       "        ...,\n",
       "        [0.41174155, 0.2824922 , 0.2447152 ],\n",
       "        [0.30335307, 0.17540318, 0.13040957],\n",
       "        [0.2381483 , 0.12477086, 0.07030979]],\n",
       "\n",
       "       [[0.9292263 , 0.7146305 , 0.6227405 ],\n",
       "        [0.86221147, 0.6221372 , 0.5481611 ],\n",
       "        [0.86638826, 0.6069381 , 0.5429864 ],\n",
       "        ...,\n",
       "        [0.3790695 , 0.25868428, 0.22141781],\n",
       "        [0.27922034, 0.15572573, 0.11453766],\n",
       "        [0.20547628, 0.09228449, 0.04394942]],\n",
       "\n",
       "       [[0.91760075, 0.7106393 , 0.61738026],\n",
       "        [0.87935954, 0.647987  , 0.5713424 ],\n",
       "        [0.85557497, 0.6022509 , 0.5370228 ],\n",
       "        ...,\n",
       "        [0.3851259 , 0.27868664, 0.24494724],\n",
       "        [0.30804038, 0.19197124, 0.15333566],\n",
       "        [0.2248289 , 0.11418958, 0.06975288]],\n",
       "\n",
       "       ...,\n",
       "\n",
       "       [[0.31880733, 0.21684651, 0.12665044],\n",
       "        [0.30929345, 0.20733266, 0.11713655],\n",
       "        [0.3095255 , 0.20756471, 0.11736862],\n",
       "        ...,\n",
       "        [0.26838383, 0.26385894, 0.23882124],\n",
       "        [0.27017057, 0.2656457 , 0.24060798],\n",
       "        [0.2505395 , 0.24601462, 0.22097693]],\n",
       "\n",
       "       [[0.31500176, 0.21304096, 0.12284488],\n",
       "        [0.3146769 , 0.21271612, 0.12252003],\n",
       "        [0.31611556, 0.21415478, 0.12395871],\n",
       "        ...,\n",
       "        [0.28369883, 0.28641376, 0.26559928],\n",
       "        [0.28597286, 0.2886878 , 0.26787332],\n",
       "        [0.3008702 , 0.3035851 , 0.2827706 ]],\n",
       "\n",
       "       [[0.32665047, 0.22468965, 0.13449357],\n",
       "        [0.31295973, 0.21099897, 0.12080289],\n",
       "        [0.31300616, 0.21104537, 0.12084929],\n",
       "        ...,\n",
       "        [0.34454116, 0.34846273, 0.3288549 ],\n",
       "        [0.3396218 , 0.34354335, 0.3239355 ],\n",
       "        [0.3344704 , 0.33839196, 0.31878412]]], dtype=float32)"
      ]
     },
     "execution_count": 33,
     "metadata": {},
     "output_type": "execute_result"
    }
   ],
   "source": [
    "train_x[0]"
   ]
  },
  {
   "cell_type": "code",
   "execution_count": null,
   "id": "c8308690-bc61-4aa2-84c9-4ff5ff234bda",
   "metadata": {},
   "outputs": [],
   "source": []
  },
  {
   "cell_type": "code",
   "execution_count": null,
   "id": "dbfc435f-c12a-4a62-a930-7ad00c8c2e25",
   "metadata": {},
   "outputs": [],
   "source": []
  }
 ],
 "metadata": {
  "kernelspec": {
   "display_name": "Python [conda env:base] *",
   "language": "python",
   "name": "conda-base-py"
  },
  "language_info": {
   "codemirror_mode": {
    "name": "ipython",
    "version": 3
   },
   "file_extension": ".py",
   "mimetype": "text/x-python",
   "name": "python",
   "nbconvert_exporter": "python",
   "pygments_lexer": "ipython3",
   "version": "3.12.3"
  }
 },
 "nbformat": 4,
 "nbformat_minor": 5
}
